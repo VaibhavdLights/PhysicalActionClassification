{
 "cells": [
  {
   "cell_type": "markdown",
   "metadata": {},
   "source": [
    "# **Physical Action Classification Based on Surface EMG Signals Analysis**\n",
    "### *PR Assignment - III*                                                         \n",
    "---"
   ]
  },
  {
   "cell_type": "markdown",
   "metadata": {},
   "source": [
    "#### *Abstract*\n",
    "The primary focus of this assignment lies in harnessing the\n",
    "potential of machine learning algorithms, particularly KNN (K\n",
    "Nearest Neighbour), to analyze EMG signals and accurately\n",
    "classify physical actions. In essence, EMG signals represent\n",
    "the electrical activity linked to muscle recruitment through\n",
    "neuronal firings. Leveraging these signals to decode intended movements presents an opportunity to bridge the communication gap between the nervous system and muscles, offering a promising avenue for advancing rehabilitation and assistive\n",
    "technologies for individuals with physical disabilities.\n",
    "\n",
    "Within the realm of machine learning, the utilization of\n",
    "EMG signals provides a unique opportunity to interpret and\n",
    "classify physical actions. The KNN algorithm, renowned for\n",
    "its simplicity and effectiveness in classification tasks, emerges\n",
    "as a significant component in this assignment. Through this\n",
    "machine-learning-centric approach, the goal is to contribute\n",
    "to the development of robust classification models that can\n",
    "effectively decode and differentiate between distinct physical\n",
    "actions based solely on EMG signal patterns."
   ]
  },
  {
   "cell_type": "markdown",
   "metadata": {},
   "source": [
    "### **Task I: Read and plot the EMG signals in matlab**\n",
    "\n",
    "The first step is to locate the EMG data in our computer and display the number of folders in the dataset. "
   ]
  },
  {
   "cell_type": "code",
   "execution_count": 2,
   "metadata": {},
   "outputs": [
    {
     "name": "stdout",
     "output_type": "stream",
     "text": [
      "Number of folders in the dataset: 4\n",
      "- sub1\n",
      "- sub2\n",
      "- sub3\n",
      "- sub4\n"
     ]
    }
   ],
   "source": [
    "\n",
    "import os\n",
    "import numpy as np\n",
    "import matplotlib.pyplot as plt\n",
    "\n",
    "# 1. Locate the EMG data and display the number of folders\n",
    "data_directory = 'emg_data'  # Replace with the actual path\n",
    "contents = os.listdir(data_directory)\n",
    "\n",
    "folder_count = 0\n",
    "\n",
    "for item in contents:\n",
    "    if os.path.isdir(os.path.join(data_directory, item)) and item not in ['.', '..']:\n",
    "        folder_count += 1\n",
    "\n",
    "print(f'Number of folders in the dataset: {folder_count}')\n",
    "\n",
    "# 2. List the text files within each of the sub-directories for Normal and Aggressive actions\n",
    "\n",
    "action_files = os.listdir(data_directory)\n",
    "for file in action_files:\n",
    "\n",
    "            print(f'- {file}')\n"
   ]
  },
  {
   "cell_type": "markdown",
   "metadata": {},
   "source": [
    "Next, we list the text files within each of the sub-directories."
   ]
  },
  {
   "cell_type": "code",
   "execution_count": 3,
   "metadata": {},
   "outputs": [
    {
     "name": "stdout",
     "output_type": "stream",
     "text": [
      "emg_data\n",
      "In subfolder \"emg_data\\sub1\":\n",
      "Files in the Normal//txt action directory:\n",
      "- Bowing.txt\n",
      "- Clapping.txt\n",
      "- Handshaking.txt\n",
      "- Hugging.txt\n",
      "- Jumping.txt\n",
      "- Running.txt\n",
      "- Seating.txt\n",
      "- Standing.txt\n",
      "- Walking.txt\n",
      "- Waving.txt\n",
      "Files in the Aggressive//txt action directory:\n",
      "- Elbowing.txt\n",
      "- Frontkicking.txt\n",
      "- Hamering.txt\n",
      "- Headering.txt\n",
      "- Kneeing.txt\n",
      "- Pulling.txt\n",
      "- Punching.txt\n",
      "- Pushing.txt\n",
      "- Sidekicking.txt\n",
      "- Slapping.txt\n",
      "In subfolder \"emg_data\\sub2\":\n",
      "Files in the Normal//txt action directory:\n",
      "- Bowing.txt\n",
      "- Clapping.txt\n",
      "- Handshaking.txt\n",
      "- Hugging.txt\n",
      "- Jumping.txt\n",
      "- Running.txt\n",
      "- Seating.txt\n",
      "- Standing.txt\n",
      "- Walking.txt\n",
      "- Waving.txt\n",
      "Files in the Aggressive//txt action directory:\n",
      "- Elbowing.txt\n",
      "- Frontkicking.txt\n",
      "- Hamering.txt\n",
      "- Headering.txt\n",
      "- Kneeing.txt\n",
      "- Pulling.txt\n",
      "- Punching.txt\n",
      "- Pushing.txt\n",
      "- Sidekicking.txt\n",
      "- Slapping.txt\n",
      "In subfolder \"emg_data\\sub3\":\n",
      "Files in the Normal//txt action directory:\n",
      "- Bowing.txt\n",
      "- Clapping.txt\n",
      "- Handshaking.txt\n",
      "- Hugging.txt\n",
      "- Jumping.txt\n",
      "- Running.txt\n",
      "- Seating.txt\n",
      "- Standing.txt\n",
      "- Walking.txt\n",
      "- Waving.txt\n",
      "Files in the Aggressive//txt action directory:\n",
      "- Elbowing.txt\n",
      "- Frontkicking.txt\n",
      "- Hamering.txt\n",
      "- Headering.txt\n",
      "- Kneeing.txt\n",
      "- Pulling.txt\n",
      "- Punching.txt\n",
      "- Pushing.txt\n",
      "- Sidekicking.txt\n",
      "- Slapping.txt\n",
      "In subfolder \"emg_data\\sub4\":\n",
      "Files in the Normal//txt action directory:\n",
      "- Bowing.txt\n",
      "- Clapping.txt\n",
      "- Handshaking.txt\n",
      "- Hugging.txt\n",
      "- Jumping.txt\n",
      "- Running.txt\n",
      "- Seating.txt\n",
      "- Standing.txt\n",
      "- Walking.txt\n",
      "- Waving.txt\n",
      "Files in the Aggressive//txt action directory:\n",
      "- Elbowing.txt\n",
      "- Frontkicking.txt\n",
      "- Hamering.txt\n",
      "- Headering.txt\n",
      "- Kneeing.txt\n",
      "- Pulling.txt\n",
      "- Punching.txt\n",
      "- Pushing.txt\n",
      "- Sidekicking.txt\n",
      "- Slapping.txt\n"
     ]
    }
   ],
   "source": [
    "# Create a list of the subfolders (Sub1, Sub2, Sub3, Sub4)\n",
    "subfolders = ['sub1', 'sub2', 'sub3', 'sub4']\n",
    "print(data_directory)\n",
    "# Create a list of the actions (Normal and Aggressive)\n",
    "actions = ['Normal//txt', 'Aggressive//txt']\n",
    "\n",
    "for subfolder in subfolders:\n",
    "    subfolder_path = os.path.join(data_directory, subfolder)\n",
    "\n",
    "    print(f'In subfolder \"{subfolder_path}\":')\n",
    "\n",
    "    for action in actions:\n",
    "        action_directory = os.path.join(subfolder_path, action)\n",
    "\n",
    "        # Use os.listdir to list all files in the action directory\n",
    "        files_in_action = os.listdir(action_directory)\n",
    "\n",
    "        # Filter the list to include only text files\n",
    "        text_files = [file for file in files_in_action if file.endswith('.txt')]\n",
    "\n",
    "        if text_files:\n",
    "            print(f'Files in the {action} action directory:')\n",
    "            for text_file in text_files:\n",
    "                print(f'- {text_file}')\n"
   ]
  },
  {
   "cell_type": "markdown",
   "metadata": {},
   "source": [
    "Finally, we read as well as display the size of each signal array in each file and plot a signal from each of the channels."
   ]
  },
  {
   "cell_type": "code",
   "execution_count": 4,
   "metadata": {},
   "outputs": [
    {
     "name": "stdout",
     "output_type": "stream",
     "text": [
      "emg_data\n",
      "In subfolder \"emg_data\\sub1\":\n",
      "Normal//txt\n",
      "File: Bowing.txt, Data size: (9830, 8)\n",
      "File: Clapping.txt, Data size: (10000, 8)\n",
      "File: Handshaking.txt, Data size: (9611, 8)\n",
      "File: Hugging.txt, Data size: (9756, 8)\n",
      "File: Jumping.txt, Data size: (10000, 8)\n",
      "File: Running.txt, Data size: (9964, 8)\n",
      "File: Seating.txt, Data size: (10000, 8)\n",
      "File: Standing.txt, Data size: (9725, 8)\n",
      "File: Walking.txt, Data size: (10000, 8)\n",
      "File: Waving.txt, Data size: (10000, 8)\n",
      "Aggressive//txt\n",
      "File: Elbowing.txt, Data size: (9772, 8)\n",
      "File: Frontkicking.txt, Data size: (9811, 8)\n",
      "File: Hamering.txt, Data size: (10000, 8)\n",
      "File: Headering.txt, Data size: (10000, 8)\n",
      "File: Kneeing.txt, Data size: (10000, 8)\n",
      "File: Pulling.txt, Data size: (9659, 8)\n",
      "File: Punching.txt, Data size: (9637, 8)\n",
      "File: Pushing.txt, Data size: (9676, 8)\n",
      "File: Sidekicking.txt, Data size: (9829, 8)\n",
      "File: Slapping.txt, Data size: (9788, 8)\n",
      "In subfolder \"emg_data\\sub2\":\n",
      "Normal//txt\n",
      "File: Bowing.txt, Data size: (9930, 8)\n",
      "File: Clapping.txt, Data size: (10000, 8)\n",
      "File: Handshaking.txt, Data size: (10000, 8)\n",
      "File: Hugging.txt, Data size: (10000, 8)\n",
      "File: Jumping.txt, Data size: (10000, 8)\n",
      "File: Running.txt, Data size: (10000, 8)\n",
      "File: Seating.txt, Data size: (10000, 8)\n",
      "File: Standing.txt, Data size: (10000, 8)\n",
      "File: Walking.txt, Data size: (10000, 8)\n",
      "File: Waving.txt, Data size: (10000, 8)\n",
      "Aggressive//txt\n",
      "File: Elbowing.txt, Data size: (10000, 8)\n",
      "File: Frontkicking.txt, Data size: (9884, 8)\n",
      "File: Hamering.txt, Data size: (10000, 8)\n",
      "File: Headering.txt, Data size: (10000, 8)\n",
      "File: Kneeing.txt, Data size: (10000, 8)\n",
      "File: Pulling.txt, Data size: (10000, 8)\n",
      "File: Punching.txt, Data size: (10000, 8)\n",
      "File: Pushing.txt, Data size: (10000, 8)\n",
      "File: Sidekicking.txt, Data size: (9806, 8)\n",
      "File: Slapping.txt, Data size: (10000, 8)\n",
      "In subfolder \"emg_data\\sub3\":\n",
      "Normal//txt\n",
      "File: Bowing.txt, Data size: (10474, 8)\n",
      "File: Clapping.txt, Data size: (10425, 8)\n",
      "File: Handshaking.txt, Data size: (9796, 8)\n",
      "File: Hugging.txt, Data size: (9755, 8)\n",
      "File: Jumping.txt, Data size: (9974, 8)\n",
      "File: Running.txt, Data size: (9655, 8)\n",
      "File: Seating.txt, Data size: (9844, 8)\n",
      "File: Standing.txt, Data size: (9604, 8)\n",
      "File: Walking.txt, Data size: (10246, 8)\n",
      "File: Waving.txt, Data size: (9909, 8)\n",
      "Aggressive//txt\n",
      "File: Elbowing.txt, Data size: (9794, 8)\n",
      "File: Frontkicking.txt, Data size: (9719, 8)\n",
      "File: Hamering.txt, Data size: (15106, 8)\n",
      "File: Headering.txt, Data size: (10098, 8)\n",
      "File: Kneeing.txt, Data size: (9205, 8)\n",
      "File: Pulling.txt, Data size: (10008, 8)\n",
      "File: Punching.txt, Data size: (9994, 8)\n",
      "File: Pushing.txt, Data size: (10412, 8)\n",
      "File: Sidekicking.txt, Data size: (10024, 8)\n",
      "File: Slapping.txt, Data size: (10173, 8)\n",
      "In subfolder \"emg_data\\sub4\":\n",
      "Normal//txt\n",
      "File: Bowing.txt, Data size: (10000, 8)\n",
      "File: Clapping.txt, Data size: (10000, 8)\n",
      "File: Handshaking.txt, Data size: (10000, 8)\n",
      "File: Hugging.txt, Data size: (10000, 8)\n",
      "File: Jumping.txt, Data size: (9664, 8)\n",
      "File: Running.txt, Data size: (10000, 8)\n",
      "File: Seating.txt, Data size: (9464, 8)\n",
      "File: Standing.txt, Data size: (10000, 8)\n",
      "File: Walking.txt, Data size: (9641, 8)\n",
      "File: Waving.txt, Data size: (10000, 8)\n",
      "Aggressive//txt\n",
      "File: Elbowing.txt, Data size: (9574, 8)\n",
      "File: Frontkicking.txt, Data size: (9522, 8)\n",
      "File: Hamering.txt, Data size: (9550, 8)\n",
      "File: Headering.txt, Data size: (9521, 8)\n",
      "File: Kneeing.txt, Data size: (10000, 8)\n",
      "File: Pulling.txt, Data size: (10000, 8)\n",
      "File: Punching.txt, Data size: (10000, 8)\n",
      "File: Pushing.txt, Data size: (10000, 8)\n",
      "File: Sidekicking.txt, Data size: (9597, 8)\n",
      "File: Slapping.txt, Data size: (10000, 8)\n"
     ]
    }
   ],
   "source": [
    "# Create a list of the subfolders (Sub1, Sub2, Sub3, Sub4)\n",
    "subfolders = ['sub1', 'sub2', 'sub3', 'sub4']\n",
    "print(data_directory)\n",
    "# Create a list of the actions (Normal and Aggressive)\n",
    "actions = ['Normal//txt', 'Aggressive//txt']\n",
    "\n",
    "for subfolder in subfolders:\n",
    "    subfolder_path = os.path.join(data_directory, subfolder)\n",
    "\n",
    "    print(f'In subfolder \"{subfolder_path}\":')\n",
    "\n",
    "    for action in actions:\n",
    "        print(action)\n",
    "        action_directory = os.path.join(subfolder_path, action)\n",
    "\n",
    "        # Use os.listdir to list all files in the action directory\n",
    "        files_in_action = os.listdir(action_directory)\n",
    "\n",
    "        # Filter the list to include only text files\n",
    "        text_files = [file for file in files_in_action if file.endswith('.txt')]\n",
    "\n",
    "        for filename in text_files:\n",
    "\n",
    "           file_path = os.path.join(action_directory, filename)\n",
    "           data = np.loadtxt(file_path)\n",
    "           data_size = data.shape\n",
    "\n",
    "           print(f'File: {filename}, Data size: {data_size}')\n",
    "        # Load the signal array from the file\n",
    "        # with open(file_path, 'r') as file:\n",
    "        #  signal_array = [str(value) for value in file.read().split(\" \")]\n",
    "\n",
    "        # # Get the size of the signal array\n",
    "        # array_size = len(signal_array)  # Use len() for lists or arrays\n",
    "        # # If using NumPy arrays, you can use: array_size = signal_array.shape\n",
    "\n",
    "        # print(f\"Size of {filename}: {array_size}\")\n"
   ]
  },
  {
   "cell_type": "code",
   "execution_count": 5,
   "metadata": {},
   "outputs": [
    {
     "name": "stdout",
     "output_type": "stream",
     "text": [
      "emg_data\n",
      "In subfolder \"emg_data\\sub1\":\n",
      "In subfolder \"emg_data\\sub2\":\n",
      "In subfolder \"emg_data\\sub3\":\n",
      "In subfolder \"emg_data\\sub4\":\n"
     ]
    },
    {
     "data": {
      "text/plain": [
       "\"\\n            for channel in range(num_channels):\\n               plt.figure()\\n               plt.plot(data[:, channel])\\n               plt.title(f'Channel {channel + 1} - {text_file} ({action})')\\n               plt.xlabel('Time')\\n               plt.ylabel('Amplitude')\\n               plt.show()\\n\\n\""
      ]
     },
     "execution_count": 5,
     "metadata": {},
     "output_type": "execute_result"
    }
   ],
   "source": [
    "# Create a list of the subfolders (Sub1, Sub2, Sub3, Sub4)\n",
    "subfolders = ['sub1', 'sub2', 'sub3', 'sub4']\n",
    "print(data_directory)\n",
    "# Create a list of the actions (Normal and Aggressive)\n",
    "actions = ['Normal//txt', 'Aggressive//txt']\n",
    "\n",
    "d = []\n",
    "\n",
    "for subfolder in subfolders:\n",
    "    subfolder_path = os.path.join(data_directory, subfolder)\n",
    "\n",
    "    print(f'In subfolder \"{subfolder_path}\":')\n",
    "\n",
    "    for action in actions:\n",
    "        action_directory = os.path.join(subfolder_path, action)\n",
    "\n",
    "        # Use os.listdir to list all files in the action directory\n",
    "        files_in_action = os.listdir(action_directory)\n",
    "\n",
    "        # Filter the list to include only text files\n",
    "        text_files = [file for file in files_in_action if file.endswith('.txt')]\n",
    "\n",
    "        for text_file in text_files:\n",
    "            file_path = os.path.join(action_directory, text_file)\n",
    "            data = np.loadtxt(file_path)\n",
    "            num_channels = data.shape[1]\n",
    "            d.append(data)\n",
    "\n",
    "# Un-comment to plot EMG Signals\n",
    "\n",
    "'''\n",
    "            for channel in range(num_channels):\n",
    "               plt.figure()\n",
    "               plt.plot(data[:, channel])\n",
    "               plt.title(f'Channel {channel + 1} - {text_file} ({action})')\n",
    "               plt.xlabel('Time')\n",
    "               plt.ylabel('Amplitude')\n",
    "               plt.show()\n",
    "\n",
    "'''"
   ]
  },
  {
   "cell_type": "markdown",
   "metadata": {},
   "source": [
    "### **Task 2: Feature extraction and visualization**"
   ]
  },
  {
   "cell_type": "markdown",
   "metadata": {},
   "source": [
    "We inititalize two empty lists, `Normal` and `Aggressive`, are initialized. \n",
    "- `classes_length` is set to 10, indicating the length of the sublists to be created and `count` is initialized to 1.\n",
    "- We then iterate through the range from 0 to the length of `d` with a step size of 10 (`range(0, len(d), 10)`). This means we consider chunks of `d` with a length of 10 in each iteration.\n",
    "- Inside the loop, we check if `count` is even (`count % 2 == 0`). If `count` is even, it appends a sublist of length `classes_length` from `d` to the `Aggressive` list (`Aggressive.append(d[i:i+classes_length])`).\n",
    "\n",
    "We effectively splits the `d` list into smaller sublists of length 10 and alternates between appending these sublists to the `Normal` and `Aggressive` lists based on whether the current iteration count is even or odd."
   ]
  },
  {
   "cell_type": "code",
   "execution_count": 6,
   "metadata": {},
   "outputs": [],
   "source": [
    "Normal = []\n",
    "Aggressive = []\n",
    "\n",
    "classes_length = 10\n",
    "count = 1\n",
    "\n",
    "for i in range(0 , len(d) , 10):\n",
    "    if count%2==0:\n",
    "        Aggressive.append(d[i:i+classes_length])\n",
    "    else:\n",
    "        Normal.append(d[i:i+classes_length])\n",
    "    count+=1"
   ]
  },
  {
   "cell_type": "markdown",
   "metadata": {},
   "source": [
    "For better understanding, we can visualize the shape of the lists."
   ]
  },
  {
   "cell_type": "code",
   "execution_count": 7,
   "metadata": {},
   "outputs": [
    {
     "name": "stdout",
     "output_type": "stream",
     "text": [
      "4\n",
      "10\n",
      "10000\n",
      "8\n"
     ]
    }
   ],
   "source": [
    "print(len(Normal))\n",
    "print(len(Normal[0]))\n",
    "print(len(Normal[0][1]))\n",
    "print(len(Normal[0][0][0]))"
   ]
  },
  {
   "cell_type": "markdown",
   "metadata": {},
   "source": [
    "The first step is the segmentation of the EMG signal in each\n",
    "channel with a non-overlapping and a sliding window length L,\n",
    "which is derived based on the sampling rate of the concerned\n",
    "EMG data. For each of the subjects, we divide the time series\n",
    "array into individual trials. There are 15 trials in each array."
   ]
  },
  {
   "cell_type": "code",
   "execution_count": 8,
   "metadata": {},
   "outputs": [],
   "source": [
    "N_trails = 15\n",
    "trails = []\n",
    "n_class = 2\n",
    "\n",
    "for i in range(n_class):\n",
    "    tra = np.array_split(Normal[0][i] , N_trails)\n",
    "    trails.append(tra)\n"
   ]
  },
  {
   "cell_type": "markdown",
   "metadata": {},
   "source": [
    "We can see the length of the trails (two trials for 2 classes)"
   ]
  },
  {
   "cell_type": "code",
   "execution_count": 9,
   "metadata": {},
   "outputs": [
    {
     "data": {
      "text/plain": [
       "2"
      ]
     },
     "execution_count": 9,
     "metadata": {},
     "output_type": "execute_result"
    }
   ],
   "source": [
    "len(trails)"
   ]
  },
  {
   "cell_type": "markdown",
   "metadata": {},
   "source": [
    "For each trial, we divide the signal into Ns number of segments\n",
    "of segments and extract mean and variance features for each\n",
    "of these segments. Thereafter, we concatenate these features\n",
    "from the Ns segments and concatenate these feature vectors\n",
    "from 8 channels into an ensemble of 8 x Ns x 2 features."
   ]
  },
  {
   "cell_type": "code",
   "execution_count": 10,
   "metadata": {},
   "outputs": [],
   "source": [
    "n_segs = 10\n",
    "channel = 8\n",
    "\n",
    "t_seg_mean = []\n",
    "t_seg_var = []\n",
    "\n",
    "for k in range(2):\n",
    "    for p in range(15):\n",
    "        segs_1 = np.array_split(trails[k][p] , n_segs) # taking first trial\n",
    "        seg_mean = []\n",
    "        seg_var = []\n",
    "\n",
    "        for j in range(len(segs_1)):\n",
    "            mean = []\n",
    "            var = []\n",
    "            for i in range(channel):\n",
    "                mean.append(np.mean(segs_1[j][: , i]))\n",
    "                var.append(np.var(segs_1[j][: , i]))\n",
    "            seg_mean.append(mean)\n",
    "            seg_var.append(var)\n",
    "\n",
    "        t_seg_mean.append(seg_mean)\n",
    "        t_seg_var.append(seg_var)\n",
    "\n"
   ]
  },
  {
   "cell_type": "markdown",
   "metadata": {},
   "source": [
    "We convert both the lists into numpy arrays."
   ]
  },
  {
   "cell_type": "code",
   "execution_count": 11,
   "metadata": {},
   "outputs": [],
   "source": [
    "t_seg_var = np.array(t_seg_var)\n",
    "t_seg_mean = np.array(t_seg_mean)"
   ]
  },
  {
   "cell_type": "markdown",
   "metadata": {},
   "source": [
    "After these operations, both `t_seg_mean` and `t_seg_var` will have an extra dimension, effectively changing their shapes. For instance, if `t_seg_mean` and `t_seg_var` were initially 1-dimensional arrays, they will become 2-dimensional arrays with `shape (1, original_shape)` after the `np.expand_dims()` operations."
   ]
  },
  {
   "cell_type": "code",
   "execution_count": 12,
   "metadata": {},
   "outputs": [],
   "source": [
    "t_seg_mean = np.expand_dims(t_seg_mean,axis = 0)\n",
    "t_seg_var = np.expand_dims(t_seg_var,axis = 0)"
   ]
  },
  {
   "cell_type": "markdown",
   "metadata": {},
   "source": [
    "Initially, the features array is created by stacking `t_seg_mean` and `t_seg_var` arrays along the last axis.\n",
    "Then, the shape of features is changed to (30, 8, 10, 2) using `reshape()`, resulting in a 4-dimensional array with 30 elements along the first axis, 8 elements along the second axis, 10 elements along the third axis, and 2 elements along the fourth axis."
   ]
  },
  {
   "cell_type": "code",
   "execution_count": 13,
   "metadata": {},
   "outputs": [
    {
     "data": {
      "text/plain": [
       "(30, 8, 10, 2)"
      ]
     },
     "execution_count": 13,
     "metadata": {},
     "output_type": "execute_result"
    }
   ],
   "source": [
    "features = np.stack([t_seg_mean , t_seg_var] , axis = -1)\n",
    "features = features.reshape((30 , 8 , 10 , 2))\n",
    "features.shape"
   ]
  },
  {
   "cell_type": "markdown",
   "metadata": {},
   "source": [
    "We can make 2 classes from the features `feature_class_1` and `feature_class_2`"
   ]
  },
  {
   "cell_type": "code",
   "execution_count": 14,
   "metadata": {},
   "outputs": [],
   "source": [
    "features_class_1 = features[:15]\n",
    "features_class_2 = features[15:]"
   ]
  },
  {
   "cell_type": "markdown",
   "metadata": {},
   "source": [
    "### **Task 3: Label extraction**"
   ]
  },
  {
   "cell_type": "markdown",
   "metadata": {},
   "source": [
    "Next, we perform label extraction by concatenating the\n",
    "target vectors into a single vector from Normal and Aggressive\n",
    "activities."
   ]
  },
  {
   "cell_type": "code",
   "execution_count": 15,
   "metadata": {},
   "outputs": [],
   "source": [
    "labels = {}\n",
    "subfolders = ['sub1', 'sub2', 'sub3', 'sub4']\n",
    "\n",
    "actions = ['Normal//txt', 'Aggressive//txt']\n",
    "\n",
    "label = 0\n",
    "subfolder_path = os.path.join(data_directory, subfolders[0])\n",
    "\n",
    "for action in actions:\n",
    "    action_directory = os.path.join(subfolder_path, action)\n",
    "    files_in_action = os.listdir(action_directory)\n",
    "    for file in files_in_action:\n",
    "        cl = file.split('.')[0]\n",
    "        labels[cl] = label\n",
    "        label+=1"
   ]
  },
  {
   "cell_type": "markdown",
   "metadata": {},
   "source": [
    "We can once check for the new labels (0-19)."
   ]
  },
  {
   "cell_type": "code",
   "execution_count": 16,
   "metadata": {},
   "outputs": [
    {
     "data": {
      "text/plain": [
       "{'Bowing': 0,\n",
       " 'Clapping': 1,\n",
       " 'Handshaking': 2,\n",
       " 'Hugging': 3,\n",
       " 'Jumping': 4,\n",
       " 'Running': 5,\n",
       " 'Seating': 6,\n",
       " 'Standing': 7,\n",
       " 'Walking': 8,\n",
       " 'Waving': 9,\n",
       " 'Elbowing': 10,\n",
       " 'Frontkicking': 11,\n",
       " 'Hamering': 12,\n",
       " 'Headering': 13,\n",
       " 'Kneeing': 14,\n",
       " 'Pulling': 15,\n",
       " 'Punching': 16,\n",
       " 'Pushing': 17,\n",
       " 'Sidekicking': 18,\n",
       " 'Slapping': 19}"
      ]
     },
     "execution_count": 16,
     "metadata": {},
     "output_type": "execute_result"
    }
   ],
   "source": [
    "labels"
   ]
  },
  {
   "cell_type": "markdown",
   "metadata": {},
   "source": [
    "We then split data from `Normal` and `Aggressive` lists into smaller arrays, organizing them into sublists within the trails list. This splitting is done for four sets of data (j values from 0 to 3), each containing `n_class` elements. Each element is split into smaller arrays of size `N_trails` using `np.array_split()`."
   ]
  },
  {
   "cell_type": "code",
   "execution_count": 17,
   "metadata": {},
   "outputs": [],
   "source": [
    "N_trails = 15\n",
    "trails = []\n",
    "n_class = 10\n",
    "\n",
    "for j in range(4):\n",
    "    t = []\n",
    "    for i in range(n_class):\n",
    "        tra = np.array_split(Normal[j][i] , N_trails)\n",
    "        t.append(tra)\n",
    "\n",
    "\n",
    "    for i in range(n_class):\n",
    "        tra = np.array_split(Aggressive[j][i] , N_trails)\n",
    "        t.append(tra)\n",
    "\n",
    "    trails.append(t)\n"
   ]
  },
  {
   "cell_type": "markdown",
   "metadata": {},
   "source": [
    "For better understanding, we can visualize the shape of the list."
   ]
  },
  {
   "cell_type": "code",
   "execution_count": 18,
   "metadata": {},
   "outputs": [
    {
     "name": "stdout",
     "output_type": "stream",
     "text": [
      "4\n",
      "20\n",
      "15\n",
      "656\n",
      "8\n"
     ]
    }
   ],
   "source": [
    "print(len(trails))\n",
    "print(len(trails[0]))\n",
    "print(len(trails[0][0]))\n",
    "print(len(trails[0][0][0]))\n",
    "print(len(trails[0][0][0][0]))"
   ]
  },
  {
   "cell_type": "markdown",
   "metadata": {},
   "source": [
    "For each trial, we divide the signal into `n_segs` number of segments\n",
    "and extract mean and variance features for each\n",
    "of these segments. Thereafter, we concatenate these features\n",
    "from the Ns segments and concatenate these feature vectors\n",
    "from 8 channels into an ensemble of `n_classes` x `subjects` x `n_trails` values."
   ]
  },
  {
   "cell_type": "code",
   "execution_count": 19,
   "metadata": {},
   "outputs": [],
   "source": [
    "n_segs = 10\n",
    "channel = 8\n",
    "n_trails = 15\n",
    "n_classes = 20\n",
    "subjects = 4\n",
    "\n",
    "t_seg_mean = []\n",
    "t_seg_var = []\n",
    "\n",
    "for s in range(subjects):\n",
    "    for k in range(n_classes):\n",
    "        for p in range(n_trails):\n",
    "            segs_1 = np.array_split(trails[s][k][p] , n_segs)\n",
    "            seg_mean = []\n",
    "            seg_var = []\n",
    "\n",
    "            for j in range(len(segs_1)):\n",
    "                mean = []\n",
    "                var = []\n",
    "                for i in range(channel):\n",
    "                    mean.append(np.mean(segs_1[j][: , i]))\n",
    "                    var.append(np.var(segs_1[j][: , i]))\n",
    "                seg_mean.append(mean)\n",
    "                seg_var.append(var)\n",
    "\n",
    "            t_seg_mean.append(seg_mean)\n",
    "            t_seg_var.append(seg_var)"
   ]
  },
  {
   "cell_type": "markdown",
   "metadata": {},
   "source": [
    "We convert both the lists into numpy arrays."
   ]
  },
  {
   "cell_type": "code",
   "execution_count": 20,
   "metadata": {},
   "outputs": [],
   "source": [
    "t_seg_var = np.array(t_seg_var)\n",
    "t_seg_mean = np.array(t_seg_mean)"
   ]
  },
  {
   "cell_type": "markdown",
   "metadata": {},
   "source": [
    "### **Task 4: Classification of pairs of classes and multiple classes**"
   ]
  },
  {
   "cell_type": "markdown",
   "metadata": {},
   "source": [
    "We then combine the inputs and outputs into a single array\n",
    "with 1200 samples with Nf features, where\n",
    "\n",
    "Nf = no. of features x no. of segments (Ns) x no. of\n",
    "channels (M)\n",
    "\n",
    "P = No. of subjects (S) x no. of classes (C) x no. of trials (R)"
   ]
  },
  {
   "cell_type": "code",
   "execution_count": 21,
   "metadata": {},
   "outputs": [
    {
     "data": {
      "text/plain": [
       "(1200, 2, 10, 8)"
      ]
     },
     "execution_count": 21,
     "metadata": {},
     "output_type": "execute_result"
    }
   ],
   "source": [
    "features = np.stack([t_seg_mean , t_seg_var] , axis = 1)\n",
    "features.shape"
   ]
  },
  {
   "cell_type": "markdown",
   "metadata": {},
   "source": [
    "We generate labels for data points based on subject-wise grouping. We assign different labels every 15 data points within each subject's data range. The labels are appended to the label list, which would correspond to the labels for the respective data points."
   ]
  },
  {
   "cell_type": "code",
   "execution_count": 22,
   "metadata": {},
   "outputs": [],
   "source": [
    "label = []\n",
    "\n",
    "\n",
    "for s in range(subjects):\n",
    "    cl = 0\n",
    "    for i in range(1 , (len(features)//subjects)+1):\n",
    "        if i%15 == 0:\n",
    "            label.append(cl)\n",
    "            cl+=1\n",
    "        else:\n",
    "            label.append(cl)\n"
   ]
  },
  {
   "cell_type": "markdown",
   "metadata": {},
   "source": [
    "We have now combined the inputs and outputs into single array with 1200 samples with Nf features. We can check the length of `label`."
   ]
  },
  {
   "cell_type": "code",
   "execution_count": 23,
   "metadata": {},
   "outputs": [
    {
     "data": {
      "text/plain": [
       "1200"
      ]
     },
     "execution_count": 23,
     "metadata": {},
     "output_type": "execute_result"
    }
   ],
   "source": [
    "len(label)"
   ]
  },
  {
   "cell_type": "code",
   "execution_count": 24,
   "metadata": {},
   "outputs": [],
   "source": [
    "# taking 2 classes\n",
    "x_features = features[:30]\n",
    "y = label[:30]"
   ]
  },
  {
   "cell_type": "markdown",
   "metadata": {},
   "source": [
    "Thereafter, we process the data in `x_features` by flattening its elements and storing them row-wise in a NumPy array `x`. "
   ]
  },
  {
   "cell_type": "code",
   "execution_count": 25,
   "metadata": {},
   "outputs": [],
   "source": [
    "x = []\n",
    "\n",
    "for i in range(len(x_features)):\n",
    "    x.append(x_features[i].flatten())\n",
    "\n",
    "x = np.array(x)\n",
    "y = np.array(y)"
   ]
  },
  {
   "cell_type": "markdown",
   "metadata": {},
   "source": [
    "### **Analysis Tasks**"
   ]
  },
  {
   "cell_type": "markdown",
   "metadata": {},
   "source": [
    "We then sample any two - classes from the 20 classes i.e, 120 x Nf data and report the cross-validation classification performance."
   ]
  },
  {
   "cell_type": "markdown",
   "metadata": {},
   "source": [
    "##### **1. For single subject**"
   ]
  },
  {
   "cell_type": "markdown",
   "metadata": {},
   "source": [
    "We perform 10-fold cross-validation using KNN classification on the provided data (`x` and `y`) and computes the accuracy score for each fold. The accuracy scores are stored in the `acc_score` list for further analysis or reporting.\n",
    "\n",
    "- `knn = KNeighborsClassifier(n_neighbors=5)`: Initializes a KNN classifier with 5 neighbors.\n",
    "\n",
    "- `k = 10`: Specifies the number of folds for cross-validation.\n",
    "\n",
    "- `kf = KFold(n_splits=k, shuffle=True, random_state=1)`: Creates a `KFold` object for 10-fold cross-validation. The `shuffle=True` parameter shuffles the data before splitting, and `random_state=1` ensures reproducibility by setting a random seed.\n",
    "\n",
    "- `acc_score = []`: Initializes an empty list to store accuracy scores for each fold.\n",
    "\n",
    "- The loop `for i, (train_index, test_index) in enumerate(kf.split(x)):` iterates over the `KFold` object's split indices.\n",
    "\n",
    "  - For each fold:\n",
    "    - Splits the data `x` and labels `y` into training and testing sets based on the indices obtained from `kf.split(x)`.\n",
    "    - Trains the KNN classifier (`knn.fit`) on the training data (`X_train`, `y_train`).\n",
    "    - Makes predictions (`pred_vals = knn.predict(X_test)`) on the test set (`X_test`).\n",
    "    - Calculates the accuracy score (`acc`) by comparing predicted values (`pred_vals`) with actual labels (`y_test`) using `accuracy_score`.\n",
    "    - Appends the accuracy score for that fold to the `acc_score` list.\n"
   ]
  },
  {
   "cell_type": "code",
   "execution_count": 42,
   "metadata": {},
   "outputs": [],
   "source": [
    "from sklearn.model_selection import KFold\n",
    "from sklearn.neighbors import KNeighborsClassifier\n",
    "from sklearn.metrics import accuracy_score\n",
    "from itertools import combinations\n",
    "from sklearn.model_selection import cross_val_score\n",
    "\n",
    "knn = KNeighborsClassifier(n_neighbors=5)\n",
    "k = 10\n",
    "kf = KFold(n_splits=k, shuffle=True, random_state=1)\n",
    "acc_score = []\n",
    "\n",
    "for i, (train_index, test_index) in enumerate(kf.split(x)):\n",
    "    X_train, X_test = x[train_index, :], x[test_index, :]\n",
    "    y_train, y_test = y[train_index], y[test_index]\n",
    "\n",
    "    knn.fit(X_train , y_train)\n",
    "    pred_vals = knn.predict(X_test)\n",
    "    acc = accuracy_score(pred_vals, y_test)\n",
    "    acc_score.append(acc)\n",
    "\n"
   ]
  },
  {
   "cell_type": "markdown",
   "metadata": {},
   "source": [
    "We now plot the mean accuracy as a function of the number of folds."
   ]
  },
  {
   "cell_type": "code",
   "execution_count": 44,
   "metadata": {},
   "outputs": [
    {
     "data": {
      "image/png": "[encoded data removed]",
      "text/plain": [
       "<Figure size 640x480 with 1 Axes>"
      ]
     },
     "metadata": {},
     "output_type": "display_data"
    }
   ],
   "source": [
    "plt.plot(range(10), acc_score, marker='o', linestyle='-')\n",
    "plt.grid(True)\n",
    "plt.xlabel('K-fold')\n",
    "plt.ylabel('Accuracy')\n",
    "plt.show()"
   ]
  },
  {
   "cell_type": "code",
   "execution_count": 45,
   "metadata": {},
   "outputs": [],
   "source": [
    "acc_dict = {}\n",
    "for i in range(k):\n",
    "    acc_dict[i]=acc_score[i]"
   ]
  },
  {
   "cell_type": "code",
   "execution_count": 48,
   "metadata": {},
   "outputs": [
    {
     "data": {
      "text/plain": [
       "[Text(0.5, 23.52222222222222, 'K-fold')]"
      ]
     },
     "execution_count": 48,
     "metadata": {},
     "output_type": "execute_result"
    },
    {
     "data": {
      "image/png": "[encoded data removed]",
      "text/plain": [
       "<Figure size 640x480 with 2 Axes>"
      ]
     },
     "metadata": {},
     "output_type": "display_data"
    }
   ],
   "source": [
    "import pandas as pd\n",
    "import seaborn as sns\n",
    "\n",
    "data = pd.DataFrame.from_dict(acc_dict,orient='index').transpose()\n",
    "\n",
    "s = sns.heatmap(data , annot=True , yticklabels=False)\n",
    "s.set(xlabel = 'K-fold')"
   ]
  },
  {
   "cell_type": "markdown",
   "metadata": {},
   "source": [
    "We can also assess accuracy as a function of folds and note that 0, 1, 5, 7, and 8 fold cross-validation gives us the best results in terms of mean accuracy.\n",
    "\n",
    "This can be visualized in the form of a line plot or as a heatmap."
   ]
  },
  {
   "cell_type": "code",
   "execution_count": 28,
   "metadata": {},
   "outputs": [
    {
     "data": {
      "text/plain": [
       "0.7333333333333334"
      ]
     },
     "execution_count": 28,
     "metadata": {},
     "output_type": "execute_result"
    }
   ],
   "source": [
    "avg_score = 0\n",
    "\n",
    "for i in range(len(acc_score)):\n",
    "    avg_score+=acc_score[i]\n",
    "\n",
    "avg_score = avg_score / len(acc_score)\n",
    "avg_score"
   ]
  },
  {
   "cell_type": "markdown",
   "metadata": {},
   "source": [
    "For binary classification, the mean accuracy is about 73.3%."
   ]
  },
  {
   "cell_type": "markdown",
   "metadata": {},
   "source": [
    "#### **2. For all subjects**"
   ]
  },
  {
   "cell_type": "markdown",
   "metadata": {},
   "source": [
    "Thereafter, we process the data in `features[i]` by flattening its elements and storing them row-wise in a NumPy array `label`. "
   ]
  },
  {
   "cell_type": "code",
   "execution_count": 29,
   "metadata": {},
   "outputs": [],
   "source": [
    "flatten_data = []\n",
    "\n",
    "for i in range(len(features)):\n",
    "    flatten_data.append(features[i].flatten())\n",
    "\n",
    "flatten_data = np.array(flatten_data)\n",
    "label = np.array(label)"
   ]
  },
  {
   "cell_type": "markdown",
   "metadata": {},
   "source": [
    "**Variables:**\n",
    "\n",
    "- `num_classes_range`: A range specifying the number of classes to be considered, ranging from 3 to 19.\n",
    "- `Nmc`: Number of Monte Carlo simulations, set to 10.\n",
    "- `accuracy_results`: A dictionary to store accuracy results for different numbers of classes.\n",
    "\n",
    "**Loop:**\n",
    "\n",
    "The loop for `num_classes` in `num_classes_range`: iterates over the range of numbers of classes.\n",
    "- `class_combinations`: Generates all combinations of classes (20 classes chosen num_classes at a time).\n",
    "- `accuracy_per_run`: List to store accuracy scores for each run.\n",
    "- Nested loop `(for mc in range(Nmc):)` runs Monte Carlo simulations.\n",
    "- `selected_combo_indices`: Randomly selects 10 combinations of classes.\n",
    "\n",
    "Another loop `(for selected_combo_idx in selected_combo_indices:)` iterates through the selected combinations.\n",
    "-Retrieves data and labels corresponding to the selected classes.\n",
    "-Creates a KNN classifier and performs cross-validation `(cross_val_score)` using the selected data and labels.\n",
    "-The mean accuracy from each cross-validation run `(np.mean(scores))` is appended to accuracy_per_run.\n",
    "- `accuracy_results[num_classes]`: Stores the list of accuracy scores obtained for each number of classes.\n",
    "\n",
    "**Output:**\n",
    "\n",
    "The code concludes by printing the average accuracy for each number of classes based on the collected accuracy scores."
   ]
  },
  {
   "cell_type": "code",
   "execution_count": 30,
   "metadata": {},
   "outputs": [
    {
     "name": "stdout",
     "output_type": "stream",
     "text": [
      "Number of classes: 3, Average Accuracy: 0.7598333333333335\n",
      "Number of classes: 4, Average Accuracy: 0.6825833333333332\n",
      "Number of classes: 5, Average Accuracy: 0.6379666666666667\n",
      "Number of classes: 6, Average Accuracy: 0.6230833333333333\n",
      "Number of classes: 7, Average Accuracy: 0.593547619047619\n",
      "Number of classes: 8, Average Accuracy: 0.5538958333333333\n",
      "Number of classes: 9, Average Accuracy: 0.5453703703703705\n",
      "Number of classes: 10, Average Accuracy: 0.5183\n",
      "Number of classes: 11, Average Accuracy: 0.49750000000000005\n",
      "Number of classes: 12, Average Accuracy: 0.4855833333333333\n",
      "Number of classes: 13, Average Accuracy: 0.46364102564102566\n",
      "Number of classes: 14, Average Accuracy: 0.4587380952380952\n",
      "Number of classes: 15, Average Accuracy: 0.4436666666666666\n",
      "Number of classes: 16, Average Accuracy: 0.43457291666666664\n",
      "Number of classes: 17, Average Accuracy: 0.4269901960784314\n",
      "Number of classes: 18, Average Accuracy: 0.41685185185185175\n",
      "Number of classes: 19, Average Accuracy: 0.40562280701754394\n"
     ]
    }
   ],
   "source": [
    "import numpy as np\n",
    "from itertools import combinations\n",
    "from sklearn.neighbors import KNeighborsClassifier\n",
    "from sklearn.model_selection import cross_val_score\n",
    "\n",
    "num_classes_range = range(3, 20)\n",
    "Nmc = 10\n",
    "accuracy_results = {}\n",
    "\n",
    "for num_classes in num_classes_range:\n",
    "    class_combinations = list(combinations(range(20), num_classes))\n",
    "    num_combinations = len(class_combinations)\n",
    "    accuracy_per_run = []\n",
    "\n",
    "    for mc in range(Nmc):\n",
    "        selected_combo_indices = np.random.choice(num_combinations, 10, replace=False)\n",
    "\n",
    "        for selected_combo_idx in selected_combo_indices:\n",
    "            selected_classes = class_combinations[selected_combo_idx]\n",
    "            selected_labels = np.repeat(selected_classes, 15)\n",
    "\n",
    "            selected_data_indices = np.isin(label, selected_labels)\n",
    "            selected_data = flatten_data[selected_data_indices]\n",
    "            selected_labels = label[selected_data_indices]\n",
    "\n",
    "            knn = KNeighborsClassifier(n_neighbors=5)\n",
    "            scores = cross_val_score(knn, selected_data, selected_labels, cv=5)\n",
    "            accuracy_per_run.append(np.mean(scores))\n",
    "\n",
    "    accuracy_results[num_classes] = accuracy_per_run\n",
    "\n",
    "for num_classes, accuracy in accuracy_results.items():\n",
    "    print(f\"Number of classes: {num_classes}, Average Accuracy: {np.mean(accuracy)}\")\n"
   ]
  },
  {
   "cell_type": "markdown",
   "metadata": {},
   "source": [
    "Consequently, we can visualize\n",
    "using a heatmap how the number of classes and the number\n",
    "of Monte Carlo runs influences the accuracy of classification\n",
    "models, showcasing the greater difficulty in achieving accurate\n",
    "predictions as the number of distinct classes expands."
   ]
  },
  {
   "cell_type": "code",
   "execution_count": 31,
   "metadata": {},
   "outputs": [
    {
     "data": {
      "text/plain": [
       "[Text(0.5, 23.52222222222222, 'no of classes'),\n",
       " Text(50.722222222222214, 0.5, 'no of runs')]"
      ]
     },
     "execution_count": 31,
     "metadata": {},
     "output_type": "execute_result"
    },
    {
     "data": {
      "image/png": "[encoded data removed]",
      "text/plain": [
       "<Figure size 640x480 with 2 Axes>"
      ]
     },
     "metadata": {},
     "output_type": "display_data"
    }
   ],
   "source": [
    "data = pd.DataFrame.from_dict(accuracy_results,orient='index').transpose()\n",
    "\n",
    "s = sns.heatmap(data)\n",
    "s.set(xlabel = 'no of classes' , ylabel = 'no of runs')"
   ]
  },
  {
   "cell_type": "markdown",
   "metadata": {},
   "source": [
    "Subsequently, we explore the effect of the number of classes\n",
    "on classification accuracy. The analysis reveals a consistent\n",
    "trend: as the number of classes increases from 2 to 19, the mean accuracy diminishes. This decline illustrates the increasing complexity of distinguishing among multiple classes, indicating the inherent challenge in accurately classifying data into numerous categories."
   ]
  },
  {
   "cell_type": "code",
   "execution_count": 32,
   "metadata": {},
   "outputs": [
    {
     "data": {
      "image/png": "[encoded data removed]",
      "text/plain": [
       "<Figure size 800x600 with 1 Axes>"
      ]
     },
     "metadata": {},
     "output_type": "display_data"
    }
   ],
   "source": [
    "mean_accuracies = [np.mean(accuracy_results[num_classes]) for num_classes in num_classes_range]\n",
    "\n",
    "plt.figure(figsize=(8, 6))\n",
    "plt.plot(num_classes_range, mean_accuracies, marker='o', linestyle='-')\n",
    "plt.xlabel('Number of Classes')\n",
    "plt.ylabel('Mean Accuracy')\n",
    "plt.title('Mean Accuracy vs Number of Classes')\n",
    "plt.grid(True)\n",
    "plt.show()"
   ]
  },
  {
   "cell_type": "markdown",
   "metadata": {},
   "source": [
    "Using the features derived from 8 channels of the surface EMG data, we performed binary class as well as multi-category classification framework in this study to classify the physical actions. Features were extracted from various modalities, including the statistical features in the time domain, such as mean and variance. \n",
    "\n",
    "A subset of these features was found to be relevant for the physical action classification using the sequential forward selection algorithm. In terms of\n",
    "channel relevance, the EMG data from the upper limbs has\n",
    "greater significance in physical action classification. In terms\n",
    "of channel relevance, the EMG data from the upper limbs has\n",
    "greater significance in physical action classification. Based on\n",
    "the selected features, the average classification performance\n",
    "metrics for KNN were evaluated as a function of number of\n",
    "classes ( 2 ≤ C ≤ 19) and of Monte Carlo runs."
   ]
  }
 ],
 "metadata": {
  "kernelspec": {
   "display_name": "Python 3",
   "language": "python",
   "name": "python3"
  },
  "language_info": {
   "codemirror_mode": {
    "name": "ipython",
    "version": 3
   },
   "file_extension": ".py",
   "mimetype": "text/x-python",
   "name": "python",
   "nbconvert_exporter": "python",
   "pygments_lexer": "ipython3",
   "version": "3.10.4"
  }
 },
 "nbformat": 4,
 "nbformat_minor": 2
}
