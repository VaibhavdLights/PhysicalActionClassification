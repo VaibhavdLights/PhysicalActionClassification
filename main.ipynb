{
 "cells": [
  {
   "cell_type": "markdown",
   "metadata": {},
   "source": [
    "## Task 1: Read and plot the EMG signals in matlab"
   ]
  },
  {
   "cell_type": "code",
   "execution_count": 1,
   "metadata": {},
   "outputs": [
    {
     "name": "stdout",
     "output_type": "stream",
     "text": [
      "Number of folders in the dataset: 4\n",
      "- readme.txt\n",
      "- sub1\n",
      "- sub2\n",
      "- sub3\n",
      "- sub4\n"
     ]
    }
   ],
   "source": [
    "\n",
    "import os\n",
    "import numpy as np\n",
    "import matplotlib.pyplot as plt\n",
    "\n",
    "# 1. Locate the EMG data and display the number of folders\n",
    "data_directory = 'EMGPhysicalActionDataSet'  # Replace with the actual path\n",
    "contents = os.listdir(data_directory)\n",
    "\n",
    "folder_count = 0\n",
    "\n",
    "for item in contents:\n",
    "    if os.path.isdir(os.path.join(data_directory, item)) and item not in ['.', '..']:\n",
    "        folder_count += 1\n",
    "\n",
    "print(f'Number of folders in the dataset: {folder_count}')\n",
    "\n",
    "# 2. List the text files within each of the sub-directories for Normal and Aggressive actions\n",
    "\n",
    "action_files = os.listdir(data_directory)\n",
    "for file in action_files:\n",
    "\n",
    "            print(f'- {file}')\n"
   ]
  },
  {
   "cell_type": "code",
   "execution_count": 2,
   "metadata": {},
   "outputs": [
    {
     "name": "stdout",
     "output_type": "stream",
     "text": [
      "EMGPhysicalActionDataSet\n",
      "In subfolder \"EMGPhysicalActionDataSet\\sub1\":\n",
      "Files in the Normal//txt action directory:\n",
      "- Bowing.txt\n",
      "- Clapping.txt\n",
      "- Handshaking.txt\n",
      "- Hugging.txt\n",
      "- Jumping.txt\n",
      "- Running.txt\n",
      "- Seating.txt\n",
      "- Standing.txt\n",
      "- Walking.txt\n",
      "- Waving.txt\n",
      "Files in the Aggressive//txt action directory:\n",
      "- Elbowing.txt\n",
      "- Frontkicking.txt\n",
      "- Hamering.txt\n",
      "- Headering.txt\n",
      "- Kneeing.txt\n",
      "- Pulling.txt\n",
      "- Punching.txt\n",
      "- Pushing.txt\n",
      "- Sidekicking.txt\n",
      "- Slapping.txt\n",
      "In subfolder \"EMGPhysicalActionDataSet\\sub2\":\n",
      "Files in the Normal//txt action directory:\n",
      "- Bowing.txt\n",
      "- Clapping.txt\n",
      "- Handshaking.txt\n",
      "- Hugging.txt\n",
      "- Jumping.txt\n",
      "- Running.txt\n",
      "- Seating.txt\n",
      "- Standing.txt\n",
      "- Walking.txt\n",
      "- Waving.txt\n",
      "Files in the Aggressive//txt action directory:\n",
      "- Elbowing.txt\n",
      "- Frontkicking.txt\n",
      "- Hamering.txt\n",
      "- Headering.txt\n",
      "- Kneeing.txt\n",
      "- Pulling.txt\n",
      "- Punching.txt\n",
      "- Pushing.txt\n",
      "- Sidekicking.txt\n",
      "- Slapping.txt\n",
      "In subfolder \"EMGPhysicalActionDataSet\\sub3\":\n",
      "Files in the Normal//txt action directory:\n",
      "- Bowing.txt\n",
      "- Clapping.txt\n",
      "- Handshaking.txt\n",
      "- Hugging.txt\n",
      "- Jumping.txt\n",
      "- Running.txt\n",
      "- Seating.txt\n",
      "- Standing.txt\n",
      "- Walking.txt\n",
      "- Waving.txt\n",
      "Files in the Aggressive//txt action directory:\n",
      "- Elbowing.txt\n",
      "- Frontkicking.txt\n",
      "- Hamering.txt\n",
      "- Headering.txt\n",
      "- Kneeing.txt\n",
      "- Pulling.txt\n",
      "- Punching.txt\n",
      "- Pushing.txt\n",
      "- Sidekicking.txt\n",
      "- Slapping.txt\n",
      "In subfolder \"EMGPhysicalActionDataSet\\sub4\":\n",
      "Files in the Normal//txt action directory:\n",
      "- Bowing.txt\n",
      "- Clapping.txt\n",
      "- Handshaking.txt\n",
      "- Hugging.txt\n",
      "- Jumping.txt\n",
      "- Running.txt\n",
      "- Seating.txt\n",
      "- Standing.txt\n",
      "- Walking.txt\n",
      "- Waving.txt\n",
      "Files in the Aggressive//txt action directory:\n",
      "- Elbowing.txt\n",
      "- Frontkicking.txt\n",
      "- Hamering.txt\n",
      "- Headering.txt\n",
      "- Kneeing.txt\n",
      "- Pulling.txt\n",
      "- Punching.txt\n",
      "- Pushing.txt\n",
      "- Sidekicking.txt\n",
      "- Slapping.txt\n"
     ]
    }
   ],
   "source": [
    "# Create a list of the subfolders (Sub1, Sub2, Sub3, Sub4)\n",
    "subfolders = ['sub1', 'sub2', 'sub3', 'sub4']\n",
    "print(data_directory)\n",
    "# Create a list of the actions (Normal and Aggressive)\n",
    "actions = ['Normal//txt', 'Aggressive//txt']\n",
    "\n",
    "for subfolder in subfolders:\n",
    "    subfolder_path = os.path.join(data_directory, subfolder)\n",
    "\n",
    "    print(f'In subfolder \"{subfolder_path}\":')\n",
    "\n",
    "    for action in actions:\n",
    "        action_directory = os.path.join(subfolder_path, action)\n",
    "\n",
    "        # Use os.listdir to list all files in the action directory\n",
    "        files_in_action = os.listdir(action_directory)\n",
    "\n",
    "        # Filter the list to include only text files\n",
    "        text_files = [file for file in files_in_action if file.endswith('.txt')]\n",
    "\n",
    "        if text_files:\n",
    "            print(f'Files in the {action} action directory:')\n",
    "            for text_file in text_files:\n",
    "                print(f'- {text_file}')\n"
   ]
  },
  {
   "cell_type": "code",
   "execution_count": 3,
   "metadata": {},
   "outputs": [
    {
     "name": "stdout",
     "output_type": "stream",
     "text": [
      "EMGPhysicalActionDataSet\n",
      "In subfolder \"EMGPhysicalActionDataSet\\sub1\":\n",
      "Normal//txt\n",
      "File: Bowing.txt, Data size: (9830, 8)\n",
      "File: Clapping.txt, Data size: (10000, 8)\n",
      "File: Handshaking.txt, Data size: (9611, 8)\n",
      "File: Hugging.txt, Data size: (9756, 8)\n",
      "File: Jumping.txt, Data size: (10000, 8)\n",
      "File: Running.txt, Data size: (9964, 8)\n",
      "File: Seating.txt, Data size: (10000, 8)\n",
      "File: Standing.txt, Data size: (9725, 8)\n",
      "File: Walking.txt, Data size: (10000, 8)\n",
      "File: Waving.txt, Data size: (10000, 8)\n",
      "Aggressive//txt\n",
      "File: Elbowing.txt, Data size: (9772, 8)\n",
      "File: Frontkicking.txt, Data size: (9811, 8)\n",
      "File: Hamering.txt, Data size: (10000, 8)\n",
      "File: Headering.txt, Data size: (10000, 8)\n",
      "File: Kneeing.txt, Data size: (10000, 8)\n",
      "File: Pulling.txt, Data size: (9659, 8)\n",
      "File: Punching.txt, Data size: (9637, 8)\n",
      "File: Pushing.txt, Data size: (9676, 8)\n",
      "File: Sidekicking.txt, Data size: (9829, 8)\n",
      "File: Slapping.txt, Data size: (9788, 8)\n",
      "In subfolder \"EMGPhysicalActionDataSet\\sub2\":\n",
      "Normal//txt\n",
      "File: Bowing.txt, Data size: (9930, 8)\n",
      "File: Clapping.txt, Data size: (10000, 8)\n",
      "File: Handshaking.txt, Data size: (10000, 8)\n",
      "File: Hugging.txt, Data size: (10000, 8)\n",
      "File: Jumping.txt, Data size: (10000, 8)\n",
      "File: Running.txt, Data size: (10000, 8)\n",
      "File: Seating.txt, Data size: (10000, 8)\n",
      "File: Standing.txt, Data size: (10000, 8)\n",
      "File: Walking.txt, Data size: (10000, 8)\n",
      "File: Waving.txt, Data size: (10000, 8)\n",
      "Aggressive//txt\n",
      "File: Elbowing.txt, Data size: (10000, 8)\n",
      "File: Frontkicking.txt, Data size: (9884, 8)\n",
      "File: Hamering.txt, Data size: (10000, 8)\n",
      "File: Headering.txt, Data size: (10000, 8)\n",
      "File: Kneeing.txt, Data size: (10000, 8)\n",
      "File: Pulling.txt, Data size: (10000, 8)\n",
      "File: Punching.txt, Data size: (10000, 8)\n",
      "File: Pushing.txt, Data size: (10000, 8)\n",
      "File: Sidekicking.txt, Data size: (9806, 8)\n",
      "File: Slapping.txt, Data size: (10000, 8)\n",
      "In subfolder \"EMGPhysicalActionDataSet\\sub3\":\n",
      "Normal//txt\n",
      "File: Bowing.txt, Data size: (10474, 8)\n",
      "File: Clapping.txt, Data size: (10425, 8)\n",
      "File: Handshaking.txt, Data size: (9796, 8)\n",
      "File: Hugging.txt, Data size: (9755, 8)\n",
      "File: Jumping.txt, Data size: (9974, 8)\n",
      "File: Running.txt, Data size: (9655, 8)\n",
      "File: Seating.txt, Data size: (9844, 8)\n",
      "File: Standing.txt, Data size: (9604, 8)\n",
      "File: Walking.txt, Data size: (10246, 8)\n",
      "File: Waving.txt, Data size: (9909, 8)\n",
      "Aggressive//txt\n",
      "File: Elbowing.txt, Data size: (9794, 8)\n",
      "File: Frontkicking.txt, Data size: (9719, 8)\n",
      "File: Hamering.txt, Data size: (15106, 8)\n",
      "File: Headering.txt, Data size: (10098, 8)\n",
      "File: Kneeing.txt, Data size: (9205, 8)\n",
      "File: Pulling.txt, Data size: (10008, 8)\n",
      "File: Punching.txt, Data size: (9994, 8)\n",
      "File: Pushing.txt, Data size: (10412, 8)\n",
      "File: Sidekicking.txt, Data size: (10024, 8)\n",
      "File: Slapping.txt, Data size: (10173, 8)\n",
      "In subfolder \"EMGPhysicalActionDataSet\\sub4\":\n",
      "Normal//txt\n",
      "File: Bowing.txt, Data size: (10000, 8)\n",
      "File: Clapping.txt, Data size: (10000, 8)\n",
      "File: Handshaking.txt, Data size: (10000, 8)\n",
      "File: Hugging.txt, Data size: (10000, 8)\n",
      "File: Jumping.txt, Data size: (9664, 8)\n",
      "File: Running.txt, Data size: (10000, 8)\n",
      "File: Seating.txt, Data size: (9464, 8)\n",
      "File: Standing.txt, Data size: (10000, 8)\n",
      "File: Walking.txt, Data size: (9641, 8)\n",
      "File: Waving.txt, Data size: (10000, 8)\n",
      "Aggressive//txt\n",
      "File: Elbowing.txt, Data size: (9574, 8)\n",
      "File: Frontkicking.txt, Data size: (9522, 8)\n",
      "File: Hamering.txt, Data size: (9550, 8)\n",
      "File: Headering.txt, Data size: (9521, 8)\n",
      "File: Kneeing.txt, Data size: (10000, 8)\n",
      "File: Pulling.txt, Data size: (10000, 8)\n",
      "File: Punching.txt, Data size: (10000, 8)\n",
      "File: Pushing.txt, Data size: (10000, 8)\n",
      "File: Sidekicking.txt, Data size: (9597, 8)\n",
      "File: Slapping.txt, Data size: (10000, 8)\n"
     ]
    }
   ],
   "source": [
    "# Create a list of the subfolders (Sub1, Sub2, Sub3, Sub4)\n",
    "subfolders = ['sub1', 'sub2', 'sub3', 'sub4']\n",
    "print(data_directory)\n",
    "# Create a list of the actions (Normal and Aggressive)\n",
    "actions = ['Normal//txt', 'Aggressive//txt']\n",
    "\n",
    "for subfolder in subfolders:\n",
    "    subfolder_path = os.path.join(data_directory, subfolder)\n",
    "\n",
    "    print(f'In subfolder \"{subfolder_path}\":')\n",
    "\n",
    "    for action in actions:\n",
    "        print(action)\n",
    "        action_directory = os.path.join(subfolder_path, action)\n",
    "\n",
    "        # Use os.listdir to list all files in the action directory\n",
    "        files_in_action = os.listdir(action_directory)\n",
    "\n",
    "        # Filter the list to include only text files\n",
    "        text_files = [file for file in files_in_action if file.endswith('.txt')]\n",
    "\n",
    "        for filename in text_files:\n",
    "\n",
    "           file_path = os.path.join(action_directory, filename)\n",
    "           data = np.loadtxt(file_path)\n",
    "           data_size = data.shape\n",
    "\n",
    "           print(f'File: {filename}, Data size: {data_size}')\n"
   ]
  },
  {
   "cell_type": "code",
   "execution_count": 4,
   "metadata": {},
   "outputs": [
    {
     "name": "stdout",
     "output_type": "stream",
     "text": [
      "EMGPhysicalActionDataSet\n",
      "In subfolder \"EMGPhysicalActionDataSet\\sub1\":\n",
      "In subfolder \"EMGPhysicalActionDataSet\\sub2\":\n",
      "In subfolder \"EMGPhysicalActionDataSet\\sub3\":\n",
      "In subfolder \"EMGPhysicalActionDataSet\\sub4\":\n"
     ]
    },
    {
     "data": {
      "text/plain": [
       "\"\\n            for channel in range(num_channels):\\n               plt.figure()\\n               plt.plot(data[:, channel])\\n               plt.title(f'Channel {channel + 1} - {text_file} ({action})')\\n               plt.xlabel('Time')\\n               plt.ylabel('Amplitude')\\n               plt.show()\\n\\n\""
      ]
     },
     "execution_count": 4,
     "metadata": {},
     "output_type": "execute_result"
    }
   ],
   "source": [
    "# Create a list of the subfolders (Sub1, Sub2, Sub3, Sub4)\n",
    "subfolders = ['sub1', 'sub2', 'sub3', 'sub4']\n",
    "print(data_directory)\n",
    "# Create a list of the actions (Normal and Aggressive)\n",
    "actions = ['Normal//txt', 'Aggressive//txt']\n",
    "\n",
    "d = []\n",
    "\n",
    "for subfolder in subfolders:\n",
    "    subfolder_path = os.path.join(data_directory, subfolder)\n",
    "\n",
    "    print(f'In subfolder \"{subfolder_path}\":')\n",
    "\n",
    "    for action in actions:\n",
    "        action_directory = os.path.join(subfolder_path, action)\n",
    "\n",
    "        # Use os.listdir to list all files in the action directory\n",
    "        files_in_action = os.listdir(action_directory)\n",
    "\n",
    "        # Filter the list to include only text files\n",
    "        text_files = [file for file in files_in_action if file.endswith('.txt')]\n",
    "\n",
    "        for text_file in text_files:\n",
    "            file_path = os.path.join(action_directory, text_file)\n",
    "            data = np.loadtxt(file_path)\n",
    "            num_channels = data.shape[1]\n",
    "            d.append(data)\n",
    "\n",
    "# Un-comment the following to get the EMG Plots\n",
    "'''\n",
    "            for channel in range(num_channels):\n",
    "               plt.figure()\n",
    "               plt.plot(data[:, channel])\n",
    "               plt.title(f'Channel {channel + 1} - {text_file} ({action})')\n",
    "               plt.xlabel('Time')\n",
    "               plt.ylabel('Amplitude')\n",
    "               plt.show()\n",
    "\n",
    "'''"
   ]
  },
  {
   "cell_type": "markdown",
   "metadata": {},
   "source": [
    "## Task 2: Feature extraction and visualization"
   ]
  },
  {
   "cell_type": "code",
   "execution_count": 5,
   "metadata": {},
   "outputs": [],
   "source": [
    "Normal = []\n",
    "Aggressive = []\n",
    "\n",
    "classes_length = 10\n",
    "count = 1\n",
    "\n",
    "for i in range(0 , len(d) , 10):\n",
    "    if count%2==0:\n",
    "        Aggressive.append(d[i:i+classes_length])\n",
    "    else:\n",
    "        Normal.append(d[i:i+classes_length])\n",
    "    count+=1"
   ]
  },
  {
   "cell_type": "code",
   "execution_count": 6,
   "metadata": {},
   "outputs": [
    {
     "name": "stdout",
     "output_type": "stream",
     "text": [
      "4\n",
      "10\n",
      "10000\n",
      "8\n"
     ]
    }
   ],
   "source": [
    "print(len(Normal))\n",
    "print(len(Normal[0]))\n",
    "print(len(Normal[0][1]))\n",
    "print(len(Normal[0][0][0]))"
   ]
  },
  {
   "cell_type": "code",
   "execution_count": 7,
   "metadata": {},
   "outputs": [],
   "source": [
    "N_trails = 15\n",
    "trails = []\n",
    "n_class = 2\n",
    "\n",
    "for i in range(n_class):\n",
    "    tra = np.array_split(Normal[0][i] , N_trails)\n",
    "    trails.append(tra)\n"
   ]
  },
  {
   "cell_type": "code",
   "execution_count": 8,
   "metadata": {},
   "outputs": [
    {
     "data": {
      "text/plain": [
       "2"
      ]
     },
     "execution_count": 8,
     "metadata": {},
     "output_type": "execute_result"
    }
   ],
   "source": [
    "len(trails)"
   ]
  },
  {
   "cell_type": "code",
   "execution_count": 9,
   "metadata": {},
   "outputs": [],
   "source": [
    "n_segs = 10\n",
    "channel = 8\n",
    "\n",
    "t_seg_mean = []\n",
    "t_seg_var = []\n",
    "\n",
    "for k in range(2):\n",
    "    for p in range(15):\n",
    "        segs_1 = np.array_split(trails[k][p] , n_segs) # taking first trial\n",
    "        seg_mean = []\n",
    "        seg_var = []\n",
    "\n",
    "        for j in range(len(segs_1)):\n",
    "            mean = []\n",
    "            var = []\n",
    "            for i in range(channel):\n",
    "                mean.append(np.mean(segs_1[j][: , i]))\n",
    "                var.append(np.var(segs_1[j][: , i]))\n",
    "            seg_mean.append(mean)\n",
    "            seg_var.append(var)\n",
    "\n",
    "        t_seg_mean.append(seg_mean)\n",
    "        t_seg_var.append(seg_var)\n",
    "\n"
   ]
  },
  {
   "cell_type": "code",
   "execution_count": 10,
   "metadata": {},
   "outputs": [],
   "source": [
    "t_seg_var = np.array(t_seg_var)\n",
    "t_seg_mean = np.array(t_seg_mean)"
   ]
  },
  {
   "cell_type": "code",
   "execution_count": 11,
   "metadata": {},
   "outputs": [],
   "source": [
    "t_seg_mean = np.expand_dims(t_seg_mean,axis = 0)\n",
    "t_seg_var = np.expand_dims(t_seg_var,axis = 0)"
   ]
  },
  {
   "cell_type": "code",
   "execution_count": 12,
   "metadata": {},
   "outputs": [
    {
     "data": {
      "text/plain": [
       "(30, 8, 10, 2)"
      ]
     },
     "execution_count": 12,
     "metadata": {},
     "output_type": "execute_result"
    }
   ],
   "source": [
    "features = np.stack([t_seg_mean , t_seg_var] , axis = -1)\n",
    "features = features.reshape((30 , 8 , 10 , 2))\n",
    "features.shape"
   ]
  },
  {
   "cell_type": "code",
   "execution_count": 13,
   "metadata": {},
   "outputs": [],
   "source": [
    "features_class_1 = features[:15]\n",
    "features_class_2 = features[15:]"
   ]
  },
  {
   "cell_type": "markdown",
   "metadata": {},
   "source": [
    "## Task 3: Label extraction"
   ]
  },
  {
   "cell_type": "code",
   "execution_count": 14,
   "metadata": {},
   "outputs": [],
   "source": [
    "labels = {}\n",
    "subfolders = ['sub1', 'sub2', 'sub3', 'sub4']\n",
    "\n",
    "actions = ['Normal//txt', 'Aggressive//txt']\n",
    "\n",
    "label = 0\n",
    "subfolder_path = os.path.join(data_directory, subfolders[0])\n",
    "\n",
    "for action in actions:\n",
    "    action_directory = os.path.join(subfolder_path, action)\n",
    "    files_in_action = os.listdir(action_directory)\n",
    "    for file in files_in_action:\n",
    "        cl = file.split('.')[0]\n",
    "        labels[cl] = label\n",
    "        label+=1"
   ]
  },
  {
   "cell_type": "code",
   "execution_count": 15,
   "metadata": {},
   "outputs": [
    {
     "data": {
      "text/plain": [
       "{'Bowing': 0,\n",
       " 'Clapping': 1,\n",
       " 'Handshaking': 2,\n",
       " 'Hugging': 3,\n",
       " 'Jumping': 4,\n",
       " 'Running': 5,\n",
       " 'Seating': 6,\n",
       " 'Standing': 7,\n",
       " 'Walking': 8,\n",
       " 'Waving': 9,\n",
       " 'Elbowing': 10,\n",
       " 'Frontkicking': 11,\n",
       " 'Hamering': 12,\n",
       " 'Headering': 13,\n",
       " 'Kneeing': 14,\n",
       " 'Pulling': 15,\n",
       " 'Punching': 16,\n",
       " 'Pushing': 17,\n",
       " 'Sidekicking': 18,\n",
       " 'Slapping': 19}"
      ]
     },
     "execution_count": 15,
     "metadata": {},
     "output_type": "execute_result"
    }
   ],
   "source": [
    "labels"
   ]
  },
  {
   "cell_type": "code",
   "execution_count": 16,
   "metadata": {},
   "outputs": [],
   "source": [
    "N_trails = 15\n",
    "trails = []\n",
    "n_class = 10\n",
    "\n",
    "for j in range(4):\n",
    "    t = []\n",
    "    for i in range(n_class):\n",
    "        tra = np.array_split(Normal[j][i] , N_trails)\n",
    "        t.append(tra)\n",
    "\n",
    "\n",
    "    for i in range(n_class):\n",
    "        tra = np.array_split(Aggressive[j][i] , N_trails)\n",
    "        t.append(tra)\n",
    "\n",
    "    trails.append(t)\n"
   ]
  },
  {
   "cell_type": "code",
   "execution_count": 17,
   "metadata": {},
   "outputs": [
    {
     "name": "stdout",
     "output_type": "stream",
     "text": [
      "4\n",
      "20\n",
      "15\n",
      "656\n",
      "8\n"
     ]
    }
   ],
   "source": [
    "print(len(trails))\n",
    "print(len(trails[0]))\n",
    "print(len(trails[0][0]))\n",
    "print(len(trails[0][0][0]))\n",
    "print(len(trails[0][0][0][0]))"
   ]
  },
  {
   "cell_type": "code",
   "execution_count": 18,
   "metadata": {},
   "outputs": [],
   "source": [
    "n_segs = 10\n",
    "channel = 8\n",
    "n_trails = 15\n",
    "n_classes = 20\n",
    "subjects = 4\n",
    "\n",
    "t_seg_mean = []\n",
    "t_seg_var = []\n",
    "\n",
    "for s in range(subjects):\n",
    "    for k in range(n_classes):\n",
    "        for p in range(n_trails):\n",
    "            segs_1 = np.array_split(trails[s][k][p] , n_segs)\n",
    "            seg_mean = []\n",
    "            seg_var = []\n",
    "\n",
    "            for j in range(len(segs_1)):\n",
    "                mean = []\n",
    "                var = []\n",
    "                for i in range(channel):\n",
    "                    mean.append(np.mean(segs_1[j][: , i]))\n",
    "                    var.append(np.var(segs_1[j][: , i]))\n",
    "                seg_mean.append(mean)\n",
    "                seg_var.append(var)\n",
    "\n",
    "            t_seg_mean.append(seg_mean)\n",
    "            t_seg_var.append(seg_var)"
   ]
  },
  {
   "cell_type": "code",
   "execution_count": 19,
   "metadata": {},
   "outputs": [],
   "source": [
    "t_seg_var = np.array(t_seg_var)\n",
    "t_seg_mean = np.array(t_seg_mean)"
   ]
  },
  {
   "cell_type": "markdown",
   "metadata": {},
   "source": [
    "## Task 4: Classification of pairs of classes and multiple classes"
   ]
  },
  {
   "cell_type": "code",
   "execution_count": 20,
   "metadata": {},
   "outputs": [
    {
     "data": {
      "text/plain": [
       "(1200, 2, 10, 8)"
      ]
     },
     "execution_count": 20,
     "metadata": {},
     "output_type": "execute_result"
    }
   ],
   "source": [
    "features = np.stack([t_seg_mean , t_seg_var] , axis = 1)\n",
    "features.shape"
   ]
  },
  {
   "cell_type": "code",
   "execution_count": 21,
   "metadata": {},
   "outputs": [],
   "source": [
    "label = []\n",
    "\n",
    "\n",
    "for s in range(subjects):\n",
    "    cl = 0\n",
    "    for i in range(1 , (len(features)//subjects)+1):\n",
    "        if i%15 == 0:\n",
    "            label.append(cl)\n",
    "            cl+=1\n",
    "        else:\n",
    "            label.append(cl)\n"
   ]
  },
  {
   "cell_type": "code",
   "execution_count": 22,
   "metadata": {},
   "outputs": [
    {
     "data": {
      "text/plain": [
       "1200"
      ]
     },
     "execution_count": 22,
     "metadata": {},
     "output_type": "execute_result"
    }
   ],
   "source": [
    "len(label)"
   ]
  },
  {
   "cell_type": "code",
   "execution_count": 23,
   "metadata": {},
   "outputs": [],
   "source": [
    "# taking 2 classes\n",
    "x_features = features[:30]\n",
    "y = label[:30]"
   ]
  },
  {
   "cell_type": "code",
   "execution_count": 24,
   "metadata": {},
   "outputs": [],
   "source": [
    "x = []\n",
    "\n",
    "for i in range(len(x_features)):\n",
    "    x.append(x_features[i].flatten())\n",
    "\n",
    "x = np.array(x)\n",
    "y = np.array(y)"
   ]
  },
  {
   "cell_type": "markdown",
   "metadata": {},
   "source": [
    "## Analysis Tasks"
   ]
  },
  {
   "cell_type": "markdown",
   "metadata": {},
   "source": [
    "#### 1. Sample any two - classes from the 20 classes i.e, 120 x Nf data and report the cross-validation classification performance."
   ]
  },
  {
   "cell_type": "code",
   "execution_count": 25,
   "metadata": {},
   "outputs": [],
   "source": [
    "from sklearn.model_selection import KFold\n",
    "from sklearn.neighbors import KNeighborsClassifier\n",
    "from sklearn.metrics import accuracy_score\n",
    "from itertools import combinations\n",
    "from sklearn.model_selection import cross_val_score\n",
    "\n",
    "knn = KNeighborsClassifier(n_neighbors=5)\n",
    "k = 5\n",
    "kf = KFold(n_splits=k, shuffle=True, random_state=1)\n",
    "acc_score = []\n",
    "\n",
    "for i, (train_index, test_index) in enumerate(kf.split(x)):\n",
    "    X_train, X_test = x[train_index, :], x[test_index, :]\n",
    "    y_train, y_test = y[train_index], y[test_index]\n",
    "\n",
    "    knn.fit(X_train , y_train)\n",
    "    pred_vals = knn.predict(X_test)\n",
    "    acc = accuracy_score(pred_vals, y_test)\n",
    "    acc_score.append(acc)\n",
    "\n"
   ]
  },
  {
   "cell_type": "code",
   "execution_count": 26,
   "metadata": {},
   "outputs": [
    {
     "data": {
      "text/plain": [
       "0.7333333333333334"
      ]
     },
     "execution_count": 26,
     "metadata": {},
     "output_type": "execute_result"
    }
   ],
   "source": [
    "avg_score = 0\n",
    "\n",
    "for i in range(len(acc_score)):\n",
    "    avg_score+=acc_score[i]\n",
    "\n",
    "avg_score = avg_score / len(acc_score)\n",
    "avg_score"
   ]
  },
  {
   "cell_type": "markdown",
   "metadata": {},
   "source": [
    "#### 2. For all subjects"
   ]
  },
  {
   "cell_type": "code",
   "execution_count": 27,
   "metadata": {},
   "outputs": [],
   "source": [
    "flatten_data = []\n",
    "\n",
    "for i in range(len(features)):\n",
    "    flatten_data.append(features[i].flatten())\n",
    "\n",
    "flatten_data = np.array(flatten_data)\n",
    "label = np.array(label)"
   ]
  },
  {
   "cell_type": "code",
   "execution_count": 28,
   "metadata": {},
   "outputs": [
    {
     "name": "stdout",
     "output_type": "stream",
     "text": [
      "Number of classes: 2, Average Accuracy: 0.8511666666666664\n",
      "Number of classes: 3, Average Accuracy: 0.7613333333333334\n",
      "Number of classes: 4, Average Accuracy: 0.70175\n",
      "Number of classes: 5, Average Accuracy: 0.6593666666666667\n",
      "Number of classes: 6, Average Accuracy: 0.6267499999999999\n",
      "Number of classes: 7, Average Accuracy: 0.5901904761904762\n",
      "Number of classes: 8, Average Accuracy: 0.5685833333333333\n",
      "Number of classes: 9, Average Accuracy: 0.5313518518518519\n",
      "Number of classes: 10, Average Accuracy: 0.5115666666666667\n",
      "Number of classes: 11, Average Accuracy: 0.49660606060606055\n",
      "Number of classes: 12, Average Accuracy: 0.48551388888888886\n",
      "Number of classes: 13, Average Accuracy: 0.471948717948718\n",
      "Number of classes: 14, Average Accuracy: 0.4647380952380951\n",
      "Number of classes: 15, Average Accuracy: 0.44623333333333337\n",
      "Number of classes: 16, Average Accuracy: 0.43197916666666664\n",
      "Number of classes: 17, Average Accuracy: 0.4256274509803922\n",
      "Number of classes: 18, Average Accuracy: 0.41305555555555556\n",
      "Number of classes: 19, Average Accuracy: 0.4055701754385964\n"
     ]
    }
   ],
   "source": [
    "import numpy as np\n",
    "from itertools import combinations\n",
    "from sklearn.neighbors import KNeighborsClassifier\n",
    "from sklearn.model_selection import cross_val_score\n",
    "\n",
    "num_classes_range = range(2, 20)\n",
    "Nmc = 10\n",
    "accuracy_results = {}\n",
    "\n",
    "for num_classes in num_classes_range:\n",
    "    class_combinations = list(combinations(range(20), num_classes))\n",
    "    num_combinations = len(class_combinations)\n",
    "    accuracy_per_run = []\n",
    "\n",
    "    for mc in range(Nmc):\n",
    "        selected_combo_indices = np.random.choice(num_combinations, 10, replace=False)\n",
    "\n",
    "        for selected_combo_idx in selected_combo_indices:\n",
    "            selected_classes = class_combinations[selected_combo_idx]\n",
    "            selected_labels = np.repeat(selected_classes, 15)\n",
    "\n",
    "            selected_data_indices = np.isin(label, selected_labels)\n",
    "            selected_data = flatten_data[selected_data_indices]\n",
    "            selected_labels = label[selected_data_indices]\n",
    "\n",
    "            knn = KNeighborsClassifier(n_neighbors=5)\n",
    "            scores = cross_val_score(knn, selected_data, selected_labels, cv=5)\n",
    "            accuracy_per_run.append(np.mean(scores))\n",
    "\n",
    "    accuracy_results[num_classes] = accuracy_per_run\n",
    "\n",
    "for num_classes, accuracy in accuracy_results.items():\n",
    "    print(f\"Number of classes: {num_classes}, Average Accuracy: {np.mean(accuracy)}\")\n"
   ]
  },
  {
   "cell_type": "code",
   "execution_count": 29,
   "metadata": {},
   "outputs": [
    {
     "data": {
      "text/plain": [
       "[Text(0.5, 23.52222222222222, 'no of classes'),\n",
       " Text(50.722222222222214, 0.5, 'no of runs')]"
      ]
     },
     "execution_count": 29,
     "metadata": {},
     "output_type": "execute_result"
    },
    {
     "data": {
      "image/png": "[encoded data removed]",
      "text/plain": [
       "<Figure size 640x480 with 2 Axes>"
      ]
     },
     "metadata": {},
     "output_type": "display_data"
    }
   ],
   "source": [
    "import pandas as pd\n",
    "import seaborn as sns\n",
    "\n",
    "data = pd.DataFrame.from_dict(accuracy_results,orient='index').transpose()\n",
    "\n",
    "s = sns.heatmap(data)\n",
    "s.set(xlabel = 'no of classes' , ylabel = 'no of runs')"
   ]
  },
  {
   "cell_type": "code",
   "execution_count": 30,
   "metadata": {},
   "outputs": [
    {
     "data": {
      "image/png": "[encoded data removed]",
      "text/plain": [
       "<Figure size 800x600 with 1 Axes>"
      ]
     },
     "metadata": {},
     "output_type": "display_data"
    }
   ],
   "source": [
    "mean_accuracies = [np.mean(accuracy_results[num_classes]) for num_classes in num_classes_range]\n",
    "\n",
    "plt.figure(figsize=(8, 6))\n",
    "plt.plot(num_classes_range, mean_accuracies, marker='o', linestyle='-')\n",
    "plt.xlabel('Number of Classes')\n",
    "plt.ylabel('Mean Accuracy')\n",
    "plt.title('Mean Accuracy vs Number of Classes')\n",
    "plt.grid(True)\n",
    "plt.show()"
   ]
  }
 ],
 "metadata": {
  "kernelspec": {
   "display_name": "Python 3",
   "language": "python",
   "name": "python3"
  },
  "language_info": {
   "codemirror_mode": {
    "name": "ipython",
    "version": 3
   },
   "file_extension": ".py",
   "mimetype": "text/x-python",
   "name": "python",
   "nbconvert_exporter": "python",
   "pygments_lexer": "ipython3",
   "version": "3.10.4"
  }
 },
 "nbformat": 4,
 "nbformat_minor": 2
}
